{
 "cells": [
  {
   "cell_type": "code",
   "execution_count": 1,
   "id": "53e907ff",
   "metadata": {},
   "outputs": [],
   "source": [
    "## pip install pandas"
   ]
  },
  {
   "cell_type": "code",
   "execution_count": 2,
   "id": "5114747a",
   "metadata": {},
   "outputs": [],
   "source": [
    "import pandas as pd"
   ]
  },
  {
   "cell_type": "code",
   "execution_count": 3,
   "id": "e6aa3597",
   "metadata": {},
   "outputs": [
    {
     "data": {
      "text/plain": [
       "0    12\n",
       "1     8\n",
       "2    19\n",
       "3    17\n",
       "dtype: int64"
      ]
     },
     "execution_count": 3,
     "metadata": {},
     "output_type": "execute_result"
    }
   ],
   "source": [
    "s = pd.Series([12, 8, 19, 17])\n",
    "s"
   ]
  },
  {
   "cell_type": "code",
   "execution_count": 4,
   "id": "4a9b9a10",
   "metadata": {},
   "outputs": [
    {
     "data": {
      "text/plain": [
       "ali         12\n",
       "hossein      8\n",
       "shahriar    19\n",
       "maryam      17\n",
       "dtype: int64"
      ]
     },
     "execution_count": 4,
     "metadata": {},
     "output_type": "execute_result"
    }
   ],
   "source": [
    "# we can custom index of series\n",
    "s = pd.Series([12, 8, 19, 17],index=['ali', 'hossein', 'shahriar', 'maryam'])\n",
    "s"
   ]
  },
  {
   "cell_type": "code",
   "execution_count": 5,
   "id": "abf7e0bc",
   "metadata": {},
   "outputs": [
    {
     "data": {
      "text/plain": [
       "8"
      ]
     },
     "execution_count": 5,
     "metadata": {},
     "output_type": "execute_result"
    }
   ],
   "source": [
    "s[1]"
   ]
  },
  {
   "cell_type": "code",
   "execution_count": 6,
   "id": "0a8fee25",
   "metadata": {},
   "outputs": [
    {
     "data": {
      "text/plain": [
       "8"
      ]
     },
     "execution_count": 6,
     "metadata": {},
     "output_type": "execute_result"
    }
   ],
   "source": [
    "s['hossein']"
   ]
  },
  {
   "cell_type": "code",
   "execution_count": 7,
   "id": "1fbdffe3",
   "metadata": {},
   "outputs": [
    {
     "data": {
      "text/plain": [
       "ali         12.0\n",
       "reza         NaN\n",
       "shahriar    19.0\n",
       "maryam      17.0\n",
       "dtype: float64"
      ]
     },
     "execution_count": 7,
     "metadata": {},
     "output_type": "execute_result"
    }
   ],
   "source": [
    "s = s.reindex(['ali', 'reza', 'shahriar', 'maryam'])\n",
    "s"
   ]
  },
  {
   "cell_type": "code",
   "execution_count": 8,
   "id": "929a1cec",
   "metadata": {},
   "outputs": [
    {
     "data": {
      "text/plain": [
       "nan"
      ]
     },
     "execution_count": 8,
     "metadata": {},
     "output_type": "execute_result"
    }
   ],
   "source": [
    "s[1]"
   ]
  },
  {
   "cell_type": "code",
   "execution_count": 9,
   "id": "d1416b83",
   "metadata": {},
   "outputs": [],
   "source": [
    "s['reza'] = 18"
   ]
  },
  {
   "cell_type": "code",
   "execution_count": 10,
   "id": "bfcacc48",
   "metadata": {},
   "outputs": [
    {
     "data": {
      "text/plain": [
       "ali         12.0\n",
       "reza        18.0\n",
       "shahriar    19.0\n",
       "maryam      17.0\n",
       "dtype: float64"
      ]
     },
     "execution_count": 10,
     "metadata": {},
     "output_type": "execute_result"
    }
   ],
   "source": [
    "s"
   ]
  },
  {
   "cell_type": "code",
   "execution_count": 11,
   "id": "4691ea48",
   "metadata": {},
   "outputs": [
    {
     "data": {
      "text/plain": [
       "Index(['ali', 'reza', 'shahriar', 'maryam'], dtype='object')"
      ]
     },
     "execution_count": 11,
     "metadata": {},
     "output_type": "execute_result"
    }
   ],
   "source": [
    "# How to get index of series\n",
    "s.index"
   ]
  },
  {
   "cell_type": "code",
   "execution_count": 12,
   "id": "dcd7620e",
   "metadata": {},
   "outputs": [
    {
     "data": {
      "text/plain": [
       "array([12., 18., 19., 17.])"
      ]
     },
     "execution_count": 12,
     "metadata": {},
     "output_type": "execute_result"
    }
   ],
   "source": [
    "# How to get values of series\n",
    "s.values"
   ]
  },
  {
   "cell_type": "code",
   "execution_count": 13,
   "id": "854f8472",
   "metadata": {},
   "outputs": [
    {
     "data": {
      "text/plain": [
       "reza        18.0\n",
       "shahriar    19.0\n",
       "dtype: float64"
      ]
     },
     "execution_count": 13,
     "metadata": {},
     "output_type": "execute_result"
    }
   ],
   "source": [
    "s[1:3]"
   ]
  },
  {
   "cell_type": "code",
   "execution_count": 14,
   "id": "d0750ffe",
   "metadata": {},
   "outputs": [
    {
     "data": {
      "text/plain": [
       "ali     12.0\n",
       "reza    18.0\n",
       "dtype: float64"
      ]
     },
     "execution_count": 14,
     "metadata": {},
     "output_type": "execute_result"
    }
   ],
   "source": [
    "s[:2]"
   ]
  },
  {
   "cell_type": "code",
   "execution_count": 15,
   "id": "16bca0ea",
   "metadata": {},
   "outputs": [
    {
     "data": {
      "text/plain": [
       "ali     12.0\n",
       "reza    18.0\n",
       "dtype: float64"
      ]
     },
     "execution_count": 15,
     "metadata": {},
     "output_type": "execute_result"
    }
   ],
   "source": [
    "s.iloc[:2]"
   ]
  },
  {
   "cell_type": "code",
   "execution_count": 16,
   "id": "fecc738d",
   "metadata": {},
   "outputs": [],
   "source": [
    "# s[:2] is equvalent of s.iloc[:2]"
   ]
  },
  {
   "cell_type": "code",
   "execution_count": 17,
   "id": "907e6eb5",
   "metadata": {},
   "outputs": [
    {
     "data": {
      "text/plain": [
       "Name\n",
       "ali         12.0\n",
       "reza        18.0\n",
       "shahriar    19.0\n",
       "maryam      17.0\n",
       "dtype: float64"
      ]
     },
     "execution_count": 17,
     "metadata": {},
     "output_type": "execute_result"
    }
   ],
   "source": [
    "# How to assign name of column of series? \n",
    "# name of column students name\n",
    "s.index.name = 'Name'\n",
    "s"
   ]
  },
  {
   "cell_type": "code",
   "execution_count": 18,
   "id": "5f75dba6",
   "metadata": {},
   "outputs": [
    {
     "data": {
      "text/plain": [
       "Name\n",
       "ali         12.0\n",
       "reza        18.0\n",
       "shahriar    19.0\n",
       "maryam      17.0\n",
       "Name: Grade, dtype: float64"
      ]
     },
     "execution_count": 18,
     "metadata": {},
     "output_type": "execute_result"
    }
   ],
   "source": [
    "# how to assign name of series\n",
    "s.name = 'Grade'\n",
    "s"
   ]
  },
  {
   "cell_type": "code",
   "execution_count": 19,
   "id": "4f1eb9ba",
   "metadata": {},
   "outputs": [
    {
     "data": {
      "text/plain": [
       "Name\n",
       "ali         12.0\n",
       "shahriar    19.0\n",
       "maryam      17.0\n",
       "Name: Grade, dtype: float64"
      ]
     },
     "execution_count": 19,
     "metadata": {},
     "output_type": "execute_result"
    }
   ],
   "source": [
    "# How remove item series\n",
    "s = s.drop('reza')\n",
    "s"
   ]
  },
  {
   "cell_type": "code",
   "execution_count": 20,
   "id": "f964c7a9",
   "metadata": {},
   "outputs": [
    {
     "data": {
      "text/plain": [
       "Name\n",
       "shahriar    19.0\n",
       "Name: Grade, dtype: float64"
      ]
     },
     "execution_count": 20,
     "metadata": {},
     "output_type": "execute_result"
    }
   ],
   "source": [
    "s = s.drop(['ali', 'maryam'])\n",
    "s"
   ]
  }
 ],
 "metadata": {
  "kernelspec": {
   "display_name": "Python 3 (ipykernel)",
   "language": "python",
   "name": "python3"
  },
  "language_info": {
   "codemirror_mode": {
    "name": "ipython",
    "version": 3
   },
   "file_extension": ".py",
   "mimetype": "text/x-python",
   "name": "python",
   "nbconvert_exporter": "python",
   "pygments_lexer": "ipython3",
   "version": "3.9.7"
  }
 },
 "nbformat": 4,
 "nbformat_minor": 5
}
