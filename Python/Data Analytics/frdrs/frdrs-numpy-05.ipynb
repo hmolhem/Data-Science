{
 "cells": [
  {
   "cell_type": "code",
   "execution_count": 1,
   "id": "b0ae67da",
   "metadata": {},
   "outputs": [],
   "source": [
    "import numpy as np"
   ]
  },
  {
   "cell_type": "markdown",
   "id": "7c111e76",
   "metadata": {},
   "source": [
    "# save and load"
   ]
  },
  {
   "cell_type": "code",
   "execution_count": 2,
   "id": "7de2dbda",
   "metadata": {},
   "outputs": [
    {
     "data": {
      "text/plain": [
       "array([1, 2, 3])"
      ]
     },
     "execution_count": 2,
     "metadata": {},
     "output_type": "execute_result"
    }
   ],
   "source": [
    "# How to save array in binary file\n",
    "# Method 01\n",
    "a = np.array([1, 2, 3,])\n",
    "a"
   ]
  },
  {
   "cell_type": "code",
   "execution_count": 3,
   "id": "356c37eb",
   "metadata": {},
   "outputs": [],
   "source": [
    "np.save('test.npy',a)"
   ]
  },
  {
   "cell_type": "code",
   "execution_count": 4,
   "id": "520397fc",
   "metadata": {},
   "outputs": [
    {
     "data": {
      "text/plain": [
       "array([1, 2, 3])"
      ]
     },
     "execution_count": 4,
     "metadata": {},
     "output_type": "execute_result"
    }
   ],
   "source": [
    "# How to retrive array from binary file\n",
    "# Method 01\n",
    "np.load('test.npy')"
   ]
  },
  {
   "cell_type": "code",
   "execution_count": 5,
   "id": "9245bd54",
   "metadata": {},
   "outputs": [],
   "source": [
    "# How to save array in binary file\n",
    "# Method 02\n",
    "with open('test.npy','wb') as f:\n",
    "    np.save(f,a)\n",
    "\n",
    "# point method 01 & 02 is identical"
   ]
  },
  {
   "cell_type": "code",
   "execution_count": 6,
   "id": "e29c0646",
   "metadata": {},
   "outputs": [],
   "source": [
    "# How to retrive array from binary file\n",
    "# Method 02\n",
    "with open('test.npy', 'rb') as f:\n",
    "    x = np.load(f)\n",
    "\n",
    "# point method 01 & 02 is identical"
   ]
  },
  {
   "cell_type": "code",
   "execution_count": 7,
   "id": "01b3e1dc",
   "metadata": {},
   "outputs": [
    {
     "data": {
      "text/plain": [
       "array([1, 2, 3])"
      ]
     },
     "execution_count": 7,
     "metadata": {},
     "output_type": "execute_result"
    }
   ],
   "source": [
    "x"
   ]
  },
  {
   "cell_type": "code",
   "execution_count": 8,
   "id": "f8ae6bf6",
   "metadata": {},
   "outputs": [],
   "source": [
    "# How to save some array in file\n",
    "arr1 = np.array([1,2])\n",
    "arr2 = np.array([3, 4, 5])\n",
    "np.savez('test.npz', x=arr1, y=arr2)"
   ]
  },
  {
   "cell_type": "code",
   "execution_count": 9,
   "id": "a32a0d51",
   "metadata": {},
   "outputs": [],
   "source": [
    "t = np.load('test.npz')"
   ]
  },
  {
   "cell_type": "code",
   "execution_count": 10,
   "id": "7588a69b",
   "metadata": {},
   "outputs": [
    {
     "data": {
      "text/plain": [
       "<numpy.lib.npyio.NpzFile at 0x2565a7f90d0>"
      ]
     },
     "execution_count": 10,
     "metadata": {},
     "output_type": "execute_result"
    }
   ],
   "source": [
    "t"
   ]
  },
  {
   "cell_type": "code",
   "execution_count": 11,
   "id": "680a52a5",
   "metadata": {},
   "outputs": [
    {
     "data": {
      "text/plain": [
       "['x', 'y']"
      ]
     },
     "execution_count": 11,
     "metadata": {},
     "output_type": "execute_result"
    }
   ],
   "source": [
    "t.files"
   ]
  },
  {
   "cell_type": "code",
   "execution_count": 12,
   "id": "e60a07d3",
   "metadata": {},
   "outputs": [
    {
     "data": {
      "text/plain": [
       "array([1, 2])"
      ]
     },
     "execution_count": 12,
     "metadata": {},
     "output_type": "execute_result"
    }
   ],
   "source": [
    "t['x']"
   ]
  },
  {
   "cell_type": "code",
   "execution_count": 13,
   "id": "e3d1ecdd",
   "metadata": {},
   "outputs": [
    {
     "data": {
      "text/plain": [
       "array([3, 4, 5])"
      ]
     },
     "execution_count": 13,
     "metadata": {},
     "output_type": "execute_result"
    }
   ],
   "source": [
    "t['y']"
   ]
  },
  {
   "cell_type": "markdown",
   "id": "24c41f63",
   "metadata": {},
   "source": [
    "# random_sample"
   ]
  },
  {
   "cell_type": "code",
   "execution_count": 14,
   "id": "c73cc4e4",
   "metadata": {},
   "outputs": [],
   "source": [
    "# u[a,b) : (b-a)*random_sample(n)+a"
   ]
  },
  {
   "cell_type": "code",
   "execution_count": 15,
   "id": "288e9794",
   "metadata": {},
   "outputs": [
    {
     "data": {
      "text/plain": [
       "array([ 7.1149382 , 19.19991276,  9.58358077,  5.51893183, 18.31260337])"
      ]
     },
     "execution_count": 15,
     "metadata": {},
     "output_type": "execute_result"
    }
   ],
   "source": [
    "#u[1,20): 19*random_sample(5)+1\n",
    "19*np.random.random_sample(5)+1"
   ]
  },
  {
   "cell_type": "markdown",
   "id": "bc1caa68",
   "metadata": {},
   "source": [
    "## Uniform Distribuation between 0, 1: rand()"
   ]
  },
  {
   "cell_type": "code",
   "execution_count": 16,
   "id": "dad3799f",
   "metadata": {},
   "outputs": [
    {
     "data": {
      "text/plain": [
       "array([0.97904947, 0.95646201, 0.99798361])"
      ]
     },
     "execution_count": 16,
     "metadata": {},
     "output_type": "execute_result"
    }
   ],
   "source": [
    "np.random.rand(3)"
   ]
  },
  {
   "cell_type": "markdown",
   "id": "26a3fdfa",
   "metadata": {},
   "source": [
    "## randint"
   ]
  },
  {
   "cell_type": "code",
   "execution_count": 17,
   "id": "bb700796",
   "metadata": {},
   "outputs": [
    {
     "data": {
      "text/plain": [
       "array([ 3, 15, 18,  3, 11,  2, 15, 20,  6,  9])"
      ]
     },
     "execution_count": 17,
     "metadata": {},
     "output_type": "execute_result"
    }
   ],
   "source": [
    "# produce random integer number between 0 and 21\n",
    "np.random.randint(0,21,10)"
   ]
  },
  {
   "cell_type": "code",
   "execution_count": 18,
   "id": "695e0838",
   "metadata": {},
   "outputs": [
    {
     "data": {
      "text/plain": [
       "array([[16, 18, 15],\n",
       "       [12,  3, 20],\n",
       "       [ 6,  4,  1]])"
      ]
     },
     "execution_count": 18,
     "metadata": {},
     "output_type": "execute_result"
    }
   ],
   "source": [
    "np.random.randint(0,21,(3,3))"
   ]
  },
  {
   "cell_type": "markdown",
   "id": "eb595982",
   "metadata": {},
   "source": [
    "## Normal Distribuation number : randn \n",
    "### N(mu,sigma^2): sigma*randn(...) + mu"
   ]
  },
  {
   "cell_type": "code",
   "execution_count": 19,
   "id": "77c93448",
   "metadata": {},
   "outputs": [
    {
     "data": {
      "text/plain": [
       "array([ 0.07531886,  0.00968888, -0.0030776 ,  0.08961142, -0.02303469,\n",
       "       -0.12170767,  0.29131473, -0.06335829, -0.06056601, -0.14209457])"
      ]
     },
     "execution_count": 19,
     "metadata": {},
     "output_type": "execute_result"
    }
   ],
   "source": [
    "mu = 0\n",
    "sigma = 0.1\n",
    "sigma* np.random.randn(10) + mu"
   ]
  },
  {
   "cell_type": "code",
   "execution_count": 20,
   "id": "6d1db6d9",
   "metadata": {},
   "outputs": [],
   "source": [
    "mu = 0\n",
    "sigma = 0.1\n",
    "s = sigma* np.random.normal(mu,sigma,500)"
   ]
  },
  {
   "cell_type": "code",
   "execution_count": 21,
   "id": "7cae226d",
   "metadata": {},
   "outputs": [],
   "source": [
    "import matplotlib.pyplot as plt"
   ]
  },
  {
   "cell_type": "code",
   "execution_count": 22,
   "id": "5951bedd",
   "metadata": {},
   "outputs": [
    {
     "data": {
      "image/png": "[encoded data removed]",
      "text/plain": [
       "<Figure size 432x288 with 1 Axes>"
      ]
     },
     "metadata": {
      "needs_background": "light"
     },
     "output_type": "display_data"
    }
   ],
   "source": [
    "plt.hist(s, 30, density=True)\n",
    "plt.show()"
   ]
  },
  {
   "cell_type": "code",
   "execution_count": 23,
   "id": "c466c628",
   "metadata": {},
   "outputs": [
    {
     "data": {
      "text/plain": [
       "array([ 0.27614959, -0.34577328,  0.4683334 ,  0.18554948,  0.54148435])"
      ]
     },
     "execution_count": 23,
     "metadata": {},
     "output_type": "execute_result"
    }
   ],
   "source": [
    "# standard normal\n",
    "a = np.random.normal(size=5)\n",
    "a"
   ]
  },
  {
   "cell_type": "markdown",
   "id": "6c852f3a",
   "metadata": {},
   "source": [
    "## How to produce constant random number "
   ]
  },
  {
   "cell_type": "code",
   "execution_count": 24,
   "id": "f5fbb948",
   "metadata": {},
   "outputs": [
    {
     "data": {
      "text/plain": [
       "array([ 0.47143516, -1.19097569,  1.43270697, -0.3126519 , -0.72058873])"
      ]
     },
     "execution_count": 24,
     "metadata": {},
     "output_type": "execute_result"
    }
   ],
   "source": [
    "np.random.seed(1234)\n",
    "a = np.random.normal(size=5)\n",
    "a"
   ]
  },
  {
   "cell_type": "code",
   "execution_count": 25,
   "id": "c8ef08ef",
   "metadata": {},
   "outputs": [],
   "source": [
    "# inner product\n",
    "a = np.array([1, 2, 3])\n",
    "b = np.array([4, 5, 6])"
   ]
  },
  {
   "cell_type": "code",
   "execution_count": 26,
   "id": "25e53a79",
   "metadata": {},
   "outputs": [
    {
     "data": {
      "text/plain": [
       "array([1, 2, 3])"
      ]
     },
     "execution_count": 26,
     "metadata": {},
     "output_type": "execute_result"
    }
   ],
   "source": [
    "a"
   ]
  },
  {
   "cell_type": "code",
   "execution_count": 27,
   "id": "a79df067",
   "metadata": {},
   "outputs": [
    {
     "data": {
      "text/plain": [
       "array([4, 5, 6])"
      ]
     },
     "execution_count": 27,
     "metadata": {},
     "output_type": "execute_result"
    }
   ],
   "source": [
    "b"
   ]
  },
  {
   "cell_type": "code",
   "execution_count": 28,
   "id": "cd7f97aa",
   "metadata": {},
   "outputs": [
    {
     "data": {
      "text/plain": [
       "32"
      ]
     },
     "execution_count": 28,
     "metadata": {},
     "output_type": "execute_result"
    }
   ],
   "source": [
    "# inner product\n",
    "np.inner(a,b)"
   ]
  },
  {
   "cell_type": "code",
   "execution_count": 29,
   "id": "1e92d940",
   "metadata": {},
   "outputs": [
    {
     "data": {
      "text/plain": [
       "array([1, 2, 3])"
      ]
     },
     "execution_count": 29,
     "metadata": {},
     "output_type": "execute_result"
    }
   ],
   "source": [
    "a"
   ]
  },
  {
   "cell_type": "code",
   "execution_count": 30,
   "id": "e19673e5",
   "metadata": {},
   "outputs": [
    {
     "data": {
      "text/plain": [
       "array([4, 5, 6])"
      ]
     },
     "execution_count": 30,
     "metadata": {},
     "output_type": "execute_result"
    }
   ],
   "source": [
    "b"
   ]
  },
  {
   "cell_type": "code",
   "execution_count": 31,
   "id": "a4a2c838",
   "metadata": {},
   "outputs": [
    {
     "data": {
      "text/plain": [
       "array([[ 4,  5,  6],\n",
       "       [ 8, 10, 12],\n",
       "       [12, 15, 18]])"
      ]
     },
     "execution_count": 31,
     "metadata": {},
     "output_type": "execute_result"
    }
   ],
   "source": [
    "# ouer product\n",
    "np.outer(a,b)"
   ]
  },
  {
   "cell_type": "markdown",
   "id": "b3ed13b8",
   "metadata": {},
   "source": [
    "## matrix multiplication"
   ]
  },
  {
   "cell_type": "code",
   "execution_count": 32,
   "id": "8f3c5a59",
   "metadata": {},
   "outputs": [],
   "source": [
    "x = np.array([[1, 2],[3, 4]])\n",
    "y = np.array([[5, 6],[7, 8]])"
   ]
  },
  {
   "cell_type": "code",
   "execution_count": 33,
   "id": "7dd2c0f8",
   "metadata": {},
   "outputs": [
    {
     "data": {
      "text/plain": [
       "array([[19, 22],\n",
       "       [43, 50]])"
      ]
     },
     "execution_count": 33,
     "metadata": {},
     "output_type": "execute_result"
    }
   ],
   "source": [
    "np.dot(x,y)"
   ]
  },
  {
   "cell_type": "markdown",
   "id": "6ee7f14e",
   "metadata": {},
   "source": [
    "## Linear Algebra"
   ]
  },
  {
   "cell_type": "code",
   "execution_count": 34,
   "id": "027eae22",
   "metadata": {},
   "outputs": [],
   "source": [
    "from numpy.linalg import inv"
   ]
  },
  {
   "cell_type": "code",
   "execution_count": 35,
   "id": "6bc14801",
   "metadata": {},
   "outputs": [
    {
     "data": {
      "text/plain": [
       "array([[-2. ,  1. ],\n",
       "       [ 1.5, -0.5]])"
      ]
     },
     "execution_count": 35,
     "metadata": {},
     "output_type": "execute_result"
    }
   ],
   "source": [
    "inv(x)"
   ]
  },
  {
   "cell_type": "code",
   "execution_count": 36,
   "id": "2290327d",
   "metadata": {},
   "outputs": [],
   "source": [
    "# qr factorization"
   ]
  },
  {
   "cell_type": "code",
   "execution_count": 37,
   "id": "e09fcff3",
   "metadata": {},
   "outputs": [],
   "source": [
    "from numpy.linalg import qr"
   ]
  },
  {
   "cell_type": "code",
   "execution_count": 38,
   "id": "e77ad43d",
   "metadata": {},
   "outputs": [],
   "source": [
    "b = x.T.dot(x)"
   ]
  },
  {
   "cell_type": "code",
   "execution_count": 39,
   "id": "ff2e5a83",
   "metadata": {},
   "outputs": [],
   "source": [
    "i = inv(b)"
   ]
  },
  {
   "cell_type": "code",
   "execution_count": 40,
   "id": "0bb59018",
   "metadata": {},
   "outputs": [
    {
     "data": {
      "text/plain": [
       "array([[1., 0.],\n",
       "       [0., 1.]])"
      ]
     },
     "execution_count": 40,
     "metadata": {},
     "output_type": "execute_result"
    }
   ],
   "source": [
    "b.dot(i)"
   ]
  },
  {
   "cell_type": "code",
   "execution_count": 41,
   "id": "946f5d21",
   "metadata": {},
   "outputs": [],
   "source": [
    "q, r = qr(b)"
   ]
  },
  {
   "cell_type": "code",
   "execution_count": 42,
   "id": "993a4ed0",
   "metadata": {},
   "outputs": [
    {
     "data": {
      "text/plain": [
       "array([[-0.58123819, -0.81373347],\n",
       "       [-0.81373347,  0.58123819]])"
      ]
     },
     "execution_count": 42,
     "metadata": {},
     "output_type": "execute_result"
    }
   ],
   "source": [
    "q"
   ]
  },
  {
   "cell_type": "code",
   "execution_count": 43,
   "id": "0826a5d3",
   "metadata": {},
   "outputs": [
    {
     "data": {
      "text/plain": [
       "array([[-17.20465053, -24.41200414],\n",
       "       [  0.        ,   0.23249528]])"
      ]
     },
     "execution_count": 43,
     "metadata": {},
     "output_type": "execute_result"
    }
   ],
   "source": [
    "r"
   ]
  }
 ],
 "metadata": {
  "kernelspec": {
   "display_name": "Python 3 (ipykernel)",
   "language": "python",
   "name": "python3"
  },
  "language_info": {
   "codemirror_mode": {
    "name": "ipython",
    "version": 3
   },
   "file_extension": ".py",
   "mimetype": "text/x-python",
   "name": "python",
   "nbconvert_exporter": "python",
   "pygments_lexer": "ipython3",
   "version": "3.9.7"
  }
 },
 "nbformat": 4,
 "nbformat_minor": 5
}
