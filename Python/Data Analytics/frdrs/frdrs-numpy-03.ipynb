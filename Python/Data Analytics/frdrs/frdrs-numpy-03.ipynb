{
 "cells": [
  {
   "cell_type": "code",
   "execution_count": 3,
   "id": "af3912dc",
   "metadata": {},
   "outputs": [],
   "source": [
    "import numpy as np"
   ]
  },
  {
   "cell_type": "code",
   "execution_count": 2,
   "id": "eb068706",
   "metadata": {},
   "outputs": [
    {
     "data": {
      "text/plain": [
       "array([[[ 1,  2,  3],\n",
       "        [ 4,  5,  6]],\n",
       "\n",
       "       [[ 7,  8,  9],\n",
       "        [10, 11, 12]]])"
      ]
     },
     "execution_count": 2,
     "metadata": {},
     "output_type": "execute_result"
    }
   ],
   "source": [
    "a = np.array([[[1,2,3],[4,5,6]],[[7,8,9],[10,11,12]]])\n",
    "a"
   ]
  },
  {
   "cell_type": "code",
   "execution_count": 3,
   "id": "29acbd3b",
   "metadata": {},
   "outputs": [
    {
     "data": {
      "text/plain": [
       "array([[1, 2, 3],\n",
       "       [4, 5, 6]])"
      ]
     },
     "execution_count": 3,
     "metadata": {},
     "output_type": "execute_result"
    }
   ],
   "source": [
    "a[0]"
   ]
  },
  {
   "cell_type": "code",
   "execution_count": 5,
   "id": "a2086e82",
   "metadata": {},
   "outputs": [
    {
     "data": {
      "text/plain": [
       "array([[1, 2, 3],\n",
       "       [4, 5, 6]])"
      ]
     },
     "execution_count": 5,
     "metadata": {},
     "output_type": "execute_result"
    }
   ],
   "source": [
    "y = a[0].copy()\n",
    "y"
   ]
  },
  {
   "cell_type": "code",
   "execution_count": 6,
   "id": "f597998d",
   "metadata": {},
   "outputs": [
    {
     "data": {
      "text/plain": [
       "array([[[88, 88, 88],\n",
       "        [88, 88, 88]],\n",
       "\n",
       "       [[ 7,  8,  9],\n",
       "        [10, 11, 12]]])"
      ]
     },
     "execution_count": 6,
     "metadata": {},
     "output_type": "execute_result"
    }
   ],
   "source": [
    "a[0] = 88\n",
    "a"
   ]
  },
  {
   "cell_type": "code",
   "execution_count": 7,
   "id": "897f7c6b",
   "metadata": {},
   "outputs": [
    {
     "data": {
      "text/plain": [
       "array([[1, 2, 3],\n",
       "       [4, 5, 6]])"
      ]
     },
     "execution_count": 7,
     "metadata": {},
     "output_type": "execute_result"
    }
   ],
   "source": [
    "y"
   ]
  },
  {
   "cell_type": "code",
   "execution_count": 8,
   "id": "cae16b4f",
   "metadata": {},
   "outputs": [
    {
     "data": {
      "text/plain": [
       "array([[[ 1,  2,  3],\n",
       "        [ 4,  5,  6]],\n",
       "\n",
       "       [[ 7,  8,  9],\n",
       "        [10, 11, 12]]])"
      ]
     },
     "execution_count": 8,
     "metadata": {},
     "output_type": "execute_result"
    }
   ],
   "source": [
    "a[0] = y\n",
    "a"
   ]
  },
  {
   "cell_type": "markdown",
   "id": "03fddcb1",
   "metadata": {},
   "source": [
    "## 2D array"
   ]
  },
  {
   "cell_type": "code",
   "execution_count": 9,
   "id": "86d292f3",
   "metadata": {},
   "outputs": [
    {
     "data": {
      "text/plain": [
       "array([[1, 2, 3],\n",
       "       [4, 5, 6],\n",
       "       [7, 8, 9]])"
      ]
     },
     "execution_count": 9,
     "metadata": {},
     "output_type": "execute_result"
    }
   ],
   "source": [
    "x = np.array([[1,2,3],[4,5,6],[7,8,9]])\n",
    "x"
   ]
  },
  {
   "cell_type": "code",
   "execution_count": 10,
   "id": "e68ba06a",
   "metadata": {},
   "outputs": [
    {
     "data": {
      "text/plain": [
       "2"
      ]
     },
     "execution_count": 10,
     "metadata": {},
     "output_type": "execute_result"
    }
   ],
   "source": [
    "x.ndim"
   ]
  },
  {
   "cell_type": "code",
   "execution_count": 11,
   "id": "47c9f4e8",
   "metadata": {},
   "outputs": [
    {
     "data": {
      "text/plain": [
       "(3, 3)"
      ]
     },
     "execution_count": 11,
     "metadata": {},
     "output_type": "execute_result"
    }
   ],
   "source": [
    "x.shape"
   ]
  },
  {
   "cell_type": "code",
   "execution_count": 12,
   "id": "165f3474",
   "metadata": {},
   "outputs": [
    {
     "data": {
      "text/plain": [
       "array([[1, 2, 3],\n",
       "       [4, 5, 6]])"
      ]
     },
     "execution_count": 12,
     "metadata": {},
     "output_type": "execute_result"
    }
   ],
   "source": [
    "# access first two column\n",
    "x[:2]"
   ]
  },
  {
   "cell_type": "code",
   "execution_count": 13,
   "id": "5ea6e58a",
   "metadata": {},
   "outputs": [
    {
     "data": {
      "text/plain": [
       "array([[1, 2, 3]])"
      ]
     },
     "execution_count": 13,
     "metadata": {},
     "output_type": "execute_result"
    }
   ],
   "source": [
    "# access first column\n",
    "x[:1]"
   ]
  },
  {
   "cell_type": "code",
   "execution_count": 14,
   "id": "12d66831",
   "metadata": {},
   "outputs": [
    {
     "data": {
      "text/plain": [
       "array([[2, 3],\n",
       "       [5, 6]])"
      ]
     },
     "execution_count": 14,
     "metadata": {},
     "output_type": "execute_result"
    }
   ],
   "source": [
    "# access first two column and end of two row\n",
    "x[:2, 1:]"
   ]
  },
  {
   "cell_type": "code",
   "execution_count": 16,
   "id": "10b0363a",
   "metadata": {},
   "outputs": [
    {
     "data": {
      "text/plain": [
       "array([[1, 0, 0],\n",
       "       [4, 0, 0],\n",
       "       [7, 8, 9]])"
      ]
     },
     "execution_count": 16,
     "metadata": {},
     "output_type": "execute_result"
    }
   ],
   "source": [
    "# zero assign in some element\n",
    "x[:2,1:] = 0\n",
    "x"
   ]
  },
  {
   "cell_type": "code",
   "execution_count": 17,
   "id": "3481ba61",
   "metadata": {},
   "outputs": [
    {
     "data": {
      "text/plain": [
       "array([[1, 2, 3],\n",
       "       [4, 5, 6],\n",
       "       [7, 8, 9]])"
      ]
     },
     "execution_count": 17,
     "metadata": {},
     "output_type": "execute_result"
    }
   ],
   "source": [
    "x = np.array([[1,2,3],[4,5,6],[7,8,9]])\n",
    "x"
   ]
  },
  {
   "cell_type": "code",
   "execution_count": 18,
   "id": "60089103",
   "metadata": {},
   "outputs": [
    {
     "data": {
      "text/plain": [
       "array([3, 6])"
      ]
     },
     "execution_count": 18,
     "metadata": {},
     "output_type": "execute_result"
    }
   ],
   "source": [
    "x[:2,2]"
   ]
  },
  {
   "cell_type": "code",
   "execution_count": 19,
   "id": "b17b0b75",
   "metadata": {},
   "outputs": [
    {
     "data": {
      "text/plain": [
       "array([2])"
      ]
     },
     "execution_count": 19,
     "metadata": {},
     "output_type": "execute_result"
    }
   ],
   "source": [
    "x[:1,1]"
   ]
  },
  {
   "cell_type": "code",
   "execution_count": 20,
   "id": "097590dc",
   "metadata": {},
   "outputs": [
    {
     "data": {
      "text/plain": [
       "array([[1],\n",
       "       [4],\n",
       "       [7]])"
      ]
     },
     "execution_count": 20,
     "metadata": {},
     "output_type": "execute_result"
    }
   ],
   "source": [
    "x[:,:1]"
   ]
  },
  {
   "cell_type": "code",
   "execution_count": 21,
   "id": "5e45fe49",
   "metadata": {},
   "outputs": [
    {
     "data": {
      "text/plain": [
       "array([[1, 2],\n",
       "       [4, 5],\n",
       "       [7, 8]])"
      ]
     },
     "execution_count": 21,
     "metadata": {},
     "output_type": "execute_result"
    }
   ],
   "source": [
    "x[:,:2]"
   ]
  },
  {
   "cell_type": "markdown",
   "id": "d09bf9ff",
   "metadata": {},
   "source": [
    "## Boolean indexing"
   ]
  },
  {
   "cell_type": "code",
   "execution_count": 47,
   "id": "b4294413",
   "metadata": {},
   "outputs": [
    {
     "data": {
      "text/plain": [
       "array(['ali', 'hossein', 'maryam', 'ali'], dtype='<U7')"
      ]
     },
     "execution_count": 47,
     "metadata": {},
     "output_type": "execute_result"
    }
   ],
   "source": [
    "name =  np.array(['ali', 'hossein', 'maryam', 'ali'])\n",
    "name"
   ]
  },
  {
   "cell_type": "code",
   "execution_count": 48,
   "id": "3a399b9f",
   "metadata": {},
   "outputs": [
    {
     "data": {
      "text/plain": [
       "array([ True, False, False,  True])"
      ]
     },
     "execution_count": 48,
     "metadata": {},
     "output_type": "execute_result"
    }
   ],
   "source": [
    "name == 'ali'"
   ]
  },
  {
   "cell_type": "code",
   "execution_count": 49,
   "id": "daf35190",
   "metadata": {},
   "outputs": [
    {
     "data": {
      "text/plain": [
       "array([[0, 5, 8],\n",
       "       [0, 9, 2],\n",
       "       [4, 0, 6],\n",
       "       [5, 3, 3]])"
      ]
     },
     "execution_count": 49,
     "metadata": {},
     "output_type": "execute_result"
    }
   ],
   "source": [
    "d = np.random.randint(0,10,(4,3))\n",
    "d"
   ]
  },
  {
   "cell_type": "code",
   "execution_count": 50,
   "id": "873ba343",
   "metadata": {},
   "outputs": [
    {
     "data": {
      "text/plain": [
       "array([[0, 5, 8],\n",
       "       [5, 3, 3]])"
      ]
     },
     "execution_count": 50,
     "metadata": {},
     "output_type": "execute_result"
    }
   ],
   "source": [
    "# get row base on true value\n",
    "d[name=='ali']"
   ]
  },
  {
   "cell_type": "code",
   "execution_count": 33,
   "id": "76ba9076",
   "metadata": {},
   "outputs": [
    {
     "data": {
      "text/plain": [
       "array([[4, 9],\n",
       "       [3, 8]])"
      ]
     },
     "execution_count": 33,
     "metadata": {},
     "output_type": "execute_result"
    }
   ],
   "source": [
    "d[name=='ali', 1:]"
   ]
  },
  {
   "cell_type": "code",
   "execution_count": 34,
   "id": "6ce2ca91",
   "metadata": {},
   "outputs": [
    {
     "data": {
      "text/plain": [
       "array([[8, 6, 5],\n",
       "       [1, 7, 6]])"
      ]
     },
     "execution_count": 34,
     "metadata": {},
     "output_type": "execute_result"
    }
   ],
   "source": [
    "d[~(name=='ali')]"
   ]
  },
  {
   "cell_type": "code",
   "execution_count": 52,
   "id": "9390e03d",
   "metadata": {},
   "outputs": [
    {
     "data": {
      "text/plain": [
       "array([ True, False, False,  True])"
      ]
     },
     "execution_count": 52,
     "metadata": {},
     "output_type": "execute_result"
    }
   ],
   "source": [
    "c = name == 'ali'\n",
    "c"
   ]
  },
  {
   "cell_type": "code",
   "execution_count": 53,
   "id": "6200b7d6",
   "metadata": {},
   "outputs": [
    {
     "data": {
      "text/plain": [
       "array([[0, 5, 8],\n",
       "       [5, 3, 3]])"
      ]
     },
     "execution_count": 53,
     "metadata": {},
     "output_type": "execute_result"
    }
   ],
   "source": [
    "d[c]"
   ]
  },
  {
   "cell_type": "code",
   "execution_count": 54,
   "id": "bf4a92b8",
   "metadata": {},
   "outputs": [
    {
     "data": {
      "text/plain": [
       "array([[0, 9, 2],\n",
       "       [4, 0, 6]])"
      ]
     },
     "execution_count": 54,
     "metadata": {},
     "output_type": "execute_result"
    }
   ],
   "source": [
    "d[~c]"
   ]
  },
  {
   "cell_type": "code",
   "execution_count": 56,
   "id": "2ee861c8",
   "metadata": {},
   "outputs": [
    {
     "data": {
      "text/plain": [
       "array([ True, False,  True,  True])"
      ]
     },
     "execution_count": 56,
     "metadata": {},
     "output_type": "execute_result"
    }
   ],
   "source": [
    "mask = (name == 'ali') | (name=='maryam')\n",
    "mask"
   ]
  },
  {
   "cell_type": "code",
   "execution_count": 57,
   "id": "2a555c35",
   "metadata": {},
   "outputs": [
    {
     "data": {
      "text/plain": [
       "array([[0, 5, 8],\n",
       "       [4, 0, 6],\n",
       "       [5, 3, 3]])"
      ]
     },
     "execution_count": 57,
     "metadata": {},
     "output_type": "execute_result"
    }
   ],
   "source": [
    "d[mask]"
   ]
  },
  {
   "cell_type": "code",
   "execution_count": 59,
   "id": "3890acf7",
   "metadata": {},
   "outputs": [
    {
     "data": {
      "text/plain": [
       "array([[ 4, -5, -5],\n",
       "       [ 8, -2,  5],\n",
       "       [ 9, -3,  5],\n",
       "       [ 6,  6,  8]])"
      ]
     },
     "execution_count": 59,
     "metadata": {},
     "output_type": "execute_result"
    }
   ],
   "source": [
    "x = np.random.randint(-10,10,(4,3))\n",
    "x"
   ]
  },
  {
   "cell_type": "code",
   "execution_count": 61,
   "id": "8824e5dd",
   "metadata": {},
   "outputs": [
    {
     "data": {
      "text/plain": [
       "array([[4, 0, 0],\n",
       "       [8, 0, 5],\n",
       "       [9, 0, 5],\n",
       "       [6, 6, 8]])"
      ]
     },
     "execution_count": 61,
     "metadata": {},
     "output_type": "execute_result"
    }
   ],
   "source": [
    "x[x<0] = 0\n",
    "x"
   ]
  },
  {
   "cell_type": "markdown",
   "id": "290450db",
   "metadata": {},
   "source": [
    "## Fancy indexing: indexing using integer arrays"
   ]
  },
  {
   "cell_type": "code",
   "execution_count": 67,
   "id": "4887bba1",
   "metadata": {},
   "outputs": [
    {
     "data": {
      "text/plain": [
       "array([[ 1.,  1.,  1.,  1.,  1.],\n",
       "       [ 6.,  6.,  6.,  6.,  6.],\n",
       "       [11., 11., 11., 11., 11.],\n",
       "       [16., 16., 16., 16., 16.],\n",
       "       [21., 21., 21., 21., 21.]])"
      ]
     },
     "execution_count": 67,
     "metadata": {},
     "output_type": "execute_result"
    }
   ],
   "source": [
    "y = np.empty((5,5))\n",
    "for i in range(5):\n",
    "    y[i] = 5*i+1\n",
    "y"
   ]
  },
  {
   "cell_type": "code",
   "execution_count": 69,
   "id": "a878ae98",
   "metadata": {},
   "outputs": [
    {
     "data": {
      "text/plain": [
       "array([[ 1.,  1.,  1.,  1.,  1.],\n",
       "       [16., 16., 16., 16., 16.],\n",
       "       [21., 21., 21., 21., 21.]])"
      ]
     },
     "execution_count": 69,
     "metadata": {},
     "output_type": "execute_result"
    }
   ],
   "source": [
    "y[[0,3,4]]"
   ]
  },
  {
   "cell_type": "code",
   "execution_count": 70,
   "id": "2a196fe3",
   "metadata": {},
   "outputs": [
    {
     "data": {
      "text/plain": [
       "array([[21., 21., 21., 21., 21.]])"
      ]
     },
     "execution_count": 70,
     "metadata": {},
     "output_type": "execute_result"
    }
   ],
   "source": [
    "y[[-1]]"
   ]
  },
  {
   "cell_type": "code",
   "execution_count": 71,
   "id": "6e1ae524",
   "metadata": {},
   "outputs": [
    {
     "data": {
      "text/plain": [
       "array([[21., 21., 21., 21., 21.],\n",
       "       [11., 11., 11., 11., 11.],\n",
       "       [ 1.,  1.,  1.,  1.,  1.]])"
      ]
     },
     "execution_count": 71,
     "metadata": {},
     "output_type": "execute_result"
    }
   ],
   "source": [
    "y[[-1,-3,-5]]"
   ]
  },
  {
   "cell_type": "code",
   "execution_count": 72,
   "id": "d3a878f9",
   "metadata": {},
   "outputs": [
    {
     "data": {
      "text/plain": [
       "array([[ 0,  1,  2,  3,  4],\n",
       "       [ 5,  6,  7,  8,  9],\n",
       "       [10, 11, 12, 13, 14],\n",
       "       [15, 16, 17, 18, 19],\n",
       "       [20, 21, 22, 23, 24],\n",
       "       [25, 26, 27, 28, 29],\n",
       "       [30, 31, 32, 33, 34]])"
      ]
     },
     "execution_count": 72,
     "metadata": {},
     "output_type": "execute_result"
    }
   ],
   "source": [
    "x = np.arange(35).reshape(7,5)\n",
    "x"
   ]
  },
  {
   "cell_type": "code",
   "execution_count": 73,
   "id": "68badd1f",
   "metadata": {},
   "outputs": [
    {
     "data": {
      "text/plain": [
       "array([ 1, 17, 29])"
      ]
     },
     "execution_count": 73,
     "metadata": {},
     "output_type": "execute_result"
    }
   ],
   "source": [
    "x[[0, 3, 5],[1, 2, 4]]"
   ]
  },
  {
   "cell_type": "code",
   "execution_count": 79,
   "id": "07d922f6",
   "metadata": {},
   "outputs": [
    {
     "data": {
      "text/plain": [
       "array([[12, 14],\n",
       "       [32, 34]])"
      ]
     },
     "execution_count": 79,
     "metadata": {},
     "output_type": "execute_result"
    }
   ],
   "source": [
    "x[[2,6]][:,[2,4]]"
   ]
  },
  {
   "cell_type": "markdown",
   "id": "70f865a7",
   "metadata": {},
   "source": [
    "## tansposing and swapping axes"
   ]
  },
  {
   "cell_type": "code",
   "execution_count": 80,
   "id": "4f2f36b3",
   "metadata": {},
   "outputs": [
    {
     "data": {
      "text/plain": [
       "array([[0, 1, 2, 3],\n",
       "       [4, 5, 6, 7]])"
      ]
     },
     "execution_count": 80,
     "metadata": {},
     "output_type": "execute_result"
    }
   ],
   "source": [
    "x = np.arange(8).reshape((2,4))\n",
    "x"
   ]
  },
  {
   "cell_type": "code",
   "execution_count": 81,
   "id": "15af569b",
   "metadata": {},
   "outputs": [
    {
     "data": {
      "text/plain": [
       "array([[0, 4],\n",
       "       [1, 5],\n",
       "       [2, 6],\n",
       "       [3, 7]])"
      ]
     },
     "execution_count": 81,
     "metadata": {},
     "output_type": "execute_result"
    }
   ],
   "source": [
    "x.T"
   ]
  },
  {
   "cell_type": "code",
   "execution_count": 82,
   "id": "5aedce0c",
   "metadata": {},
   "outputs": [
    {
     "data": {
      "text/plain": [
       "array([[[ 0,  1,  2,  3,  4],\n",
       "        [ 5,  6,  7,  8,  9],\n",
       "        [10, 11, 12, 13, 14],\n",
       "        [15, 16, 17, 18, 19]],\n",
       "\n",
       "       [[20, 21, 22, 23, 24],\n",
       "        [25, 26, 27, 28, 29],\n",
       "        [30, 31, 32, 33, 34],\n",
       "        [35, 36, 37, 38, 39]],\n",
       "\n",
       "       [[40, 41, 42, 43, 44],\n",
       "        [45, 46, 47, 48, 49],\n",
       "        [50, 51, 52, 53, 54],\n",
       "        [55, 56, 57, 58, 59]]])"
      ]
     },
     "execution_count": 82,
     "metadata": {},
     "output_type": "execute_result"
    }
   ],
   "source": [
    "# three matrix of (4,5)\n",
    "y = np.arange(60).reshape((3,4,5))\n",
    "y"
   ]
  },
  {
   "cell_type": "code",
   "execution_count": 84,
   "id": "b266144c",
   "metadata": {},
   "outputs": [
    {
     "data": {
      "text/plain": [
       "array([[[ 0,  1,  2,  3,  4],\n",
       "        [20, 21, 22, 23, 24],\n",
       "        [40, 41, 42, 43, 44]],\n",
       "\n",
       "       [[ 5,  6,  7,  8,  9],\n",
       "        [25, 26, 27, 28, 29],\n",
       "        [45, 46, 47, 48, 49]],\n",
       "\n",
       "       [[10, 11, 12, 13, 14],\n",
       "        [30, 31, 32, 33, 34],\n",
       "        [50, 51, 52, 53, 54]],\n",
       "\n",
       "       [[15, 16, 17, 18, 19],\n",
       "        [35, 36, 37, 38, 39],\n",
       "        [55, 56, 57, 58, 59]]])"
      ]
     },
     "execution_count": 84,
     "metadata": {},
     "output_type": "execute_result"
    }
   ],
   "source": [
    "# after swapping axes we have 4 mtrix (3,5)\n",
    "y.swapaxes(0,1)"
   ]
  },
  {
   "cell_type": "code",
   "execution_count": 85,
   "id": "6a202740",
   "metadata": {},
   "outputs": [
    {
     "data": {
      "text/plain": [
       "array([[[ 0,  1,  2,  3,  4],\n",
       "        [20, 21, 22, 23, 24],\n",
       "        [40, 41, 42, 43, 44]],\n",
       "\n",
       "       [[ 5,  6,  7,  8,  9],\n",
       "        [25, 26, 27, 28, 29],\n",
       "        [45, 46, 47, 48, 49]],\n",
       "\n",
       "       [[10, 11, 12, 13, 14],\n",
       "        [30, 31, 32, 33, 34],\n",
       "        [50, 51, 52, 53, 54]],\n",
       "\n",
       "       [[15, 16, 17, 18, 19],\n",
       "        [35, 36, 37, 38, 39],\n",
       "        [55, 56, 57, 58, 59]]])"
      ]
     },
     "execution_count": 85,
     "metadata": {},
     "output_type": "execute_result"
    }
   ],
   "source": [
    "# another way for swapping axes\n",
    "y.transpose((1,0,2))"
   ]
  },
  {
   "cell_type": "markdown",
   "id": "a80d3f42",
   "metadata": {},
   "source": [
    "# Universal Function: ufunc"
   ]
  },
  {
   "cell_type": "code",
   "execution_count": 87,
   "id": "4a706c1f",
   "metadata": {},
   "outputs": [
    {
     "data": {
      "text/plain": [
       "array([0, 1, 2, 3])"
      ]
     },
     "execution_count": 87,
     "metadata": {},
     "output_type": "execute_result"
    }
   ],
   "source": [
    "x = np.arange(4)\n",
    "x"
   ]
  },
  {
   "cell_type": "code",
   "execution_count": 90,
   "id": "3189461e",
   "metadata": {},
   "outputs": [
    {
     "data": {
      "text/plain": [
       "array([0.        , 1.        , 1.41421356, 1.73205081])"
      ]
     },
     "execution_count": 90,
     "metadata": {},
     "output_type": "execute_result"
    }
   ],
   "source": [
    "np.sqrt(x)"
   ]
  },
  {
   "cell_type": "code",
   "execution_count": 91,
   "id": "268a6366",
   "metadata": {},
   "outputs": [
    {
     "data": {
      "text/plain": [
       "array([ 1.        ,  2.71828183,  7.3890561 , 20.08553692])"
      ]
     },
     "execution_count": 91,
     "metadata": {},
     "output_type": "execute_result"
    }
   ],
   "source": [
    "np.exp(x)"
   ]
  },
  {
   "cell_type": "code",
   "execution_count": 92,
   "id": "3b5880f4",
   "metadata": {},
   "outputs": [
    {
     "data": {
      "text/plain": [
       "[1.2, -3.6, 7.8]"
      ]
     },
     "execution_count": 92,
     "metadata": {},
     "output_type": "execute_result"
    }
   ],
   "source": [
    "y = [1.2, -3.6, 7.8]\n",
    "y"
   ]
  },
  {
   "cell_type": "code",
   "execution_count": 96,
   "id": "13995deb",
   "metadata": {},
   "outputs": [],
   "source": [
    "decimalpart, integerpart = np.modf(y)"
   ]
  },
  {
   "cell_type": "code",
   "execution_count": 97,
   "id": "14562f84",
   "metadata": {},
   "outputs": [
    {
     "data": {
      "text/plain": [
       "array([ 1., -3.,  7.])"
      ]
     },
     "execution_count": 97,
     "metadata": {},
     "output_type": "execute_result"
    }
   ],
   "source": [
    "integerpart"
   ]
  },
  {
   "cell_type": "code",
   "execution_count": 98,
   "id": "be16b8e7",
   "metadata": {},
   "outputs": [
    {
     "data": {
      "text/plain": [
       "array([ 0.2, -0.6,  0.8])"
      ]
     },
     "execution_count": 98,
     "metadata": {},
     "output_type": "execute_result"
    }
   ],
   "source": [
    "decimalpart"
   ]
  },
  {
   "cell_type": "code",
   "execution_count": 99,
   "id": "b08d2087",
   "metadata": {},
   "outputs": [
    {
     "data": {
      "text/plain": [
       "array([-0.95806203,  0.87169571,  0.74685958, -1.07344265])"
      ]
     },
     "execution_count": 99,
     "metadata": {},
     "output_type": "execute_result"
    }
   ],
   "source": [
    "x = np.random.randn(4)\n",
    "x"
   ]
  },
  {
   "cell_type": "code",
   "execution_count": 100,
   "id": "4793b186",
   "metadata": {},
   "outputs": [
    {
     "data": {
      "text/plain": [
       "array([-0.11611542, -0.89359601,  0.29891034, -0.71998817])"
      ]
     },
     "execution_count": 100,
     "metadata": {},
     "output_type": "execute_result"
    }
   ],
   "source": [
    "y = np.random.randn(4)\n",
    "y"
   ]
  },
  {
   "cell_type": "code",
   "execution_count": 101,
   "id": "3d5671bb",
   "metadata": {},
   "outputs": [
    {
     "data": {
      "text/plain": [
       "array([-0.11611542,  0.87169571,  0.74685958, -0.71998817])"
      ]
     },
     "execution_count": 101,
     "metadata": {},
     "output_type": "execute_result"
    }
   ],
   "source": [
    "np.maximum(x,y)"
   ]
  },
  {
   "cell_type": "markdown",
   "id": "92df3299",
   "metadata": {},
   "source": [
    "## where"
   ]
  },
  {
   "cell_type": "code",
   "execution_count": 102,
   "id": "7ba7c22f",
   "metadata": {},
   "outputs": [],
   "source": [
    "arr1 = np.array([1, 2, 3])\n",
    "arr2 = np.array([4, 5, 6])\n",
    "cond = np.array([True, False, True])"
   ]
  },
  {
   "cell_type": "code",
   "execution_count": 104,
   "id": "b772e6e0",
   "metadata": {},
   "outputs": [
    {
     "data": {
      "text/plain": [
       "[1, 5, 3]"
      ]
     },
     "execution_count": 104,
     "metadata": {},
     "output_type": "execute_result"
    }
   ],
   "source": [
    "r = [(x if c else y) for x,y,c in zip(arr1, arr2, cond) ]\n",
    "r"
   ]
  },
  {
   "cell_type": "code",
   "execution_count": 105,
   "id": "be3704d0",
   "metadata": {},
   "outputs": [
    {
     "data": {
      "text/plain": [
       "array([1, 5, 3])"
      ]
     },
     "execution_count": 105,
     "metadata": {},
     "output_type": "execute_result"
    }
   ],
   "source": [
    "q = np.where(cond, arr1, arr2)\n",
    "q"
   ]
  },
  {
   "cell_type": "code",
   "execution_count": 4,
   "id": "d99b52bb",
   "metadata": {},
   "outputs": [
    {
     "data": {
      "text/plain": [
       "array([[-10,   7,   5],\n",
       "       [  0,  -1,  -8],\n",
       "       [  8,   2,   7]])"
      ]
     },
     "execution_count": 4,
     "metadata": {},
     "output_type": "execute_result"
    }
   ],
   "source": [
    "x = np.random.randint(-10,10,(3,3))\n",
    "x"
   ]
  },
  {
   "cell_type": "code",
   "execution_count": 5,
   "id": "5564d64f",
   "metadata": {},
   "outputs": [
    {
     "data": {
      "text/plain": [
       "array([[False,  True,  True],\n",
       "       [False, False, False],\n",
       "       [ True,  True,  True]])"
      ]
     },
     "execution_count": 5,
     "metadata": {},
     "output_type": "execute_result"
    }
   ],
   "source": [
    "x > 0"
   ]
  },
  {
   "cell_type": "code",
   "execution_count": 7,
   "id": "9c95efa7",
   "metadata": {},
   "outputs": [
    {
     "data": {
      "text/plain": [
       "array([[-1,  1,  1],\n",
       "       [-1, -1, -1],\n",
       "       [ 1,  1,  1]])"
      ]
     },
     "execution_count": 7,
     "metadata": {},
     "output_type": "execute_result"
    }
   ],
   "source": [
    "y = np.where( x > 0, 1, -1)\n",
    "y"
   ]
  },
  {
   "cell_type": "code",
   "execution_count": 8,
   "id": "c05d3e16",
   "metadata": {},
   "outputs": [
    {
     "data": {
      "text/plain": [
       "array([[-10,   1,   1],\n",
       "       [  0,  -1,  -8],\n",
       "       [  1,   1,   1]])"
      ]
     },
     "execution_count": 8,
     "metadata": {},
     "output_type": "execute_result"
    }
   ],
   "source": [
    "z = np.where(x > 0, 1, x)\n",
    "z"
   ]
  }
 ],
 "metadata": {
  "kernelspec": {
   "display_name": "Python 3 (ipykernel)",
   "language": "python",
   "name": "python3"
  },
  "language_info": {
   "codemirror_mode": {
    "name": "ipython",
    "version": 3
   },
   "file_extension": ".py",
   "mimetype": "text/x-python",
   "name": "python",
   "nbconvert_exporter": "python",
   "pygments_lexer": "ipython3",
   "version": "3.9.7"
  }
 },
 "nbformat": 4,
 "nbformat_minor": 5
}
